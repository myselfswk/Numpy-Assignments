{
 "cells": [
  {
   "cell_type": "markdown",
   "metadata": {},
   "source": [
    "# NumpyVsPythonList"
   ]
  },
  {
   "cell_type": "code",
   "execution_count": 3,
   "metadata": {},
   "outputs": [
    {
     "name": "stdout",
     "output_type": "stream",
     "text": [
      "Wall time: 1.26 s\n"
     ]
    }
   ],
   "source": [
    "l=range(1000000)\n",
    "#(%time), tells you the time require to complete the process\n",
    "%time for i in range(1,10): result=[x*2 for x in l]"
   ]
  },
  {
   "cell_type": "code",
   "execution_count": 2,
   "metadata": {},
   "outputs": [
    {
     "name": "stdout",
     "output_type": "stream",
     "text": [
      "Wall time: 48 ms\n"
     ]
    }
   ],
   "source": [
    "import numpy as np\n",
    "\n",
    "arr = np.arange(1000000)\n",
    "\n",
    "%time for i in range(1,10): result2=arr*2 #the time required is comparitively less than python list\n",
    "#numpy is almost 100 times faster than python list calculation"
   ]
  },
  {
   "cell_type": "markdown",
   "metadata": {},
   "source": [
    "# A Multidimensional Array Object"
   ]
  },
  {
   "cell_type": "code",
   "execution_count": 5,
   "metadata": {},
   "outputs": [
    {
     "data": {
      "text/plain": [
       "array([[0., 0., 0., 0.],\n",
       "       [0., 0., 0., 0.],\n",
       "       [0., 0., 0., 0.],\n",
       "       [0., 0., 0., 0.]])"
      ]
     },
     "execution_count": 5,
     "metadata": {},
     "output_type": "execute_result"
    }
   ],
   "source": [
    "zero_element_array=np.zeros((4,4))\n",
    "#an array is created with all the element is zero,on the tuple you initialize the size of that array\n",
    "zero_element_array"
   ]
  },
  {
   "cell_type": "code",
   "execution_count": 6,
   "metadata": {},
   "outputs": [
    {
     "data": {
      "text/plain": [
       "array([[1., 1., 1., 1., 1.],\n",
       "       [1., 1., 1., 1., 1.],\n",
       "       [1., 1., 1., 1., 1.],\n",
       "       [1., 1., 1., 1., 1.],\n",
       "       [1., 1., 1., 1., 1.]])"
      ]
     },
     "execution_count": 6,
     "metadata": {},
     "output_type": "execute_result"
    }
   ],
   "source": [
    "Ones_element_array=np.ones((5,5))\n",
    "#an array is created with all the element is one, on the tuple again you initialize the size of that array\n",
    "Ones_element_array"
   ]
  },
  {
   "cell_type": "code",
   "execution_count": 3,
   "metadata": {},
   "outputs": [
    {
     "data": {
      "text/plain": [
       "array([[6.23042070e-307, 0.00000000e+000, 1.72451033e-307,\n",
       "        1.44635488e-307, 1.37962320e-306],\n",
       "       [1.29060871e-306, 7.56603881e-307, 7.56599807e-307,\n",
       "        8.90104239e-307, 1.24610383e-306],\n",
       "       [1.69118108e-306, 8.06632139e-308, 1.20160711e-306,\n",
       "        1.69119330e-306, 1.29062229e-306],\n",
       "       [1.29060531e-306, 6.89805151e-307, 7.56592338e-307,\n",
       "        6.89807188e-307, 1.37961302e-306],\n",
       "       [8.45559303e-307, 1.06811422e-306, 1.05694828e-307,\n",
       "        2.22522596e-306, 2.18568966e-312]])"
      ]
     },
     "execution_count": 3,
     "metadata": {},
     "output_type": "execute_result"
    }
   ],
   "source": [
    "Empty_element_array=np.empty((5,5))\n",
    "#an array is created with all the element is random, on the tuple again you initialize the size of that array\n",
    "Empty_element_array\n",
    "\n",
    "#empty function randomly generate any sort of value"
   ]
  },
  {
   "cell_type": "code",
   "execution_count": 10,
   "metadata": {},
   "outputs": [
    {
     "data": {
      "text/plain": [
       "array([1, 3, 5, 7, 9])"
      ]
     },
     "execution_count": 10,
     "metadata": {},
     "output_type": "execute_result"
    }
   ],
   "source": [
    "#you can convert the list of the simple python with the array of numpy by using np.array\n",
    "List=[1,3,5,7,9]\n",
    "\n",
    "L=np.array(List)\n",
    "L"
   ]
  },
  {
   "cell_type": "code",
   "execution_count": 6,
   "metadata": {},
   "outputs": [
    {
     "data": {
      "text/plain": [
       "array([ 1, 11, 21, 31, 41, 51, 61, 71, 81, 91])"
      ]
     },
     "execution_count": 6,
     "metadata": {},
     "output_type": "execute_result"
    }
   ],
   "source": [
    "#np.arange(starting point, ending point, step size) create an numpy array with some specific range you give\n",
    "\n",
    "One_D_array=np.arange(1,100,10)\n",
    "One_D_array"
   ]
  },
  {
   "cell_type": "code",
   "execution_count": 7,
   "metadata": {},
   "outputs": [
    {
     "data": {
      "text/plain": [
       "array([ 1,  2,  3,  4,  5,  6,  7,  8,  9, 10, 11, 12, 13, 14, 15, 16, 17,\n",
       "       18, 19, 20, 21, 22, 23, 24, 25, 26, 27, 28, 29, 30, 31, 32, 33, 34,\n",
       "       35, 36, 37, 38, 39, 40, 41, 42, 43, 44, 45, 46, 47, 48, 49, 50, 51,\n",
       "       52, 53, 54, 55, 56, 57, 58, 59, 60, 61, 62, 63, 64, 65, 66, 67, 68,\n",
       "       69, 70, 71, 72, 73, 74, 75, 76, 77, 78, 79, 80, 81, 82, 83, 84, 85,\n",
       "       86, 87, 88, 89, 90, 91, 92, 93, 94, 95, 96, 97, 98, 99])"
      ]
     },
     "execution_count": 7,
     "metadata": {},
     "output_type": "execute_result"
    }
   ],
   "source": [
    "Second_One_D_array=np.arange(1,100)   #arange don't generate the random values\n",
    "Second_One_D_array"
   ]
  },
  {
   "cell_type": "code",
   "execution_count": 8,
   "metadata": {},
   "outputs": [
    {
     "data": {
      "text/plain": [
       "array([ 1, 21, 41, 61, 81])"
      ]
     },
     "execution_count": 8,
     "metadata": {},
     "output_type": "execute_result"
    }
   ],
   "source": [
    "Third_One_D_array=np.arange(1,100,20)   #arange don't generate the random values\n",
    "Third_One_D_array"
   ]
  },
  {
   "cell_type": "code",
   "execution_count": 11,
   "metadata": {},
   "outputs": [
    {
     "name": "stdout",
     "output_type": "stream",
     "text": [
      "(10,)\n",
      "(99,)\n",
      "(5,)\n"
     ]
    }
   ],
   "source": [
    "#you can also check the shape of the array by using element_name.shape like,\n",
    "\n",
    "One_D_array_shape = One_D_array.shape\n",
    "Second_One_D_array_shape = Second_One_D_array.shape  #remember, no parenthesis\n",
    "Third_One_D_array_shape = Third_One_D_array.shape\n",
    "\n",
    "print(One_D_array_shape)   #shape tells that how many element are in the array of the numpy\n",
    "print(Second_One_D_array_shape)  #like the size of an numpy\n",
    "print(Third_One_D_array_shape)"
   ]
  },
  {
   "cell_type": "code",
   "execution_count": 12,
   "metadata": {},
   "outputs": [
    {
     "name": "stdout",
     "output_type": "stream",
     "text": [
      "[[[[0. 0. 0. 0. 0.]\n",
      "   [0. 0. 0. 0. 0.]\n",
      "   [0. 0. 0. 0. 0.]\n",
      "   [0. 0. 0. 0. 0.]\n",
      "   [0. 0. 0. 0. 0.]]\n",
      "\n",
      "  [[0. 0. 0. 0. 0.]\n",
      "   [0. 0. 0. 0. 0.]\n",
      "   [0. 0. 0. 0. 0.]\n",
      "   [0. 0. 0. 0. 0.]\n",
      "   [0. 0. 0. 0. 0.]]]\n",
      "\n",
      "\n",
      " [[[0. 0. 0. 0. 0.]\n",
      "   [0. 0. 0. 0. 0.]\n",
      "   [0. 0. 0. 0. 0.]\n",
      "   [0. 0. 0. 0. 0.]\n",
      "   [0. 0. 0. 0. 0.]]\n",
      "\n",
      "  [[0. 0. 0. 0. 0.]\n",
      "   [0. 0. 0. 0. 0.]\n",
      "   [0. 0. 0. 0. 0.]\n",
      "   [0. 0. 0. 0. 0.]\n",
      "   [0. 0. 0. 0. 0.]]]]\n"
     ]
    }
   ],
   "source": [
    "w=np.zeros((10,10))\n",
    "#reshape can convert the original shape of the array to the desire shape you want\n",
    "s=w.reshape((2,2,5,5))   #size given by tuples\n",
    "\n",
    "print(s)"
   ]
  },
  {
   "cell_type": "code",
   "execution_count": 13,
   "metadata": {},
   "outputs": [
    {
     "name": "stdout",
     "output_type": "stream",
     "text": [
      "data type of the numpy array s is :float64\n",
      "Dimention of the numpy array s is :4\n"
     ]
    }
   ],
   "source": [
    "#you can also see the datatype of an array by using element_name.dtype like,\n",
    "print(\"data type of the numpy array s is :{}\".format(s.dtype))\n",
    "#you can also see the dimentions of an array by element_name.ndim\n",
    "print(\"Dimention of the numpy array s is :{}\".format(s.ndim))"
   ]
  },
  {
   "cell_type": "markdown",
   "metadata": {},
   "source": [
    "# Arithmetic with ndarray"
   ]
  },
  {
   "cell_type": "code",
   "execution_count": 35,
   "metadata": {},
   "outputs": [
    {
     "name": "stdout",
     "output_type": "stream",
     "text": [
      "[[ 2.  4.  6.]\n",
      " [ 8. 10. 12.]]\n",
      "[[0. 0. 0.]\n",
      " [0. 0. 0.]]\n",
      "[[ 1.  4.  9.]\n",
      " [16. 25. 36.]]\n",
      "[[1. 1. 1.]\n",
      " [1. 1. 1.]]\n",
      "[[1.         1.41421356 1.73205081]\n",
      " [2.         2.23606798 2.44948974]]\n",
      "[[False  True  True]\n",
      " [False  True False]]\n"
     ]
    }
   ],
   "source": [
    "#you can perform multiple operation on two numpy array directly by +,-,x and / sign as you add two values\n",
    "Numpy_array=np.array([[1., 2., 3.], [4., 5., 6.]])\n",
    "#we always passes list on .array method\n",
    "add_array=Numpy_array + Numpy_array\n",
    "print(add_array)\n",
    "\n",
    "subs_array=Numpy_array - Numpy_array\n",
    "print(subs_array)\n",
    "\n",
    "mul_array=Numpy_array * Numpy_array\n",
    "print(mul_array)\n",
    "\n",
    "div_array=Numpy_array / Numpy_array\n",
    "print(div_array)\n",
    "\n",
    "half_power_array=Numpy_array ** 0.5\n",
    "print(half_power_array)\n",
    "\n",
    "#you can also compare two values on an array and return true/false as an output\n",
    "Numpy_array_two=np.array([[1., 4., 6.], [4., 7., 6.]])\n",
    "boolean_array= Numpy_array < Numpy_array_two\n",
    "print(boolean_array)"
   ]
  },
  {
   "cell_type": "code",
   "execution_count": 15,
   "metadata": {},
   "outputs": [
    {
     "name": "stdout",
     "output_type": "stream",
     "text": [
      "First random Array: [ 0.20584828  1.8220079   1.00807402  1.25536243  0.35631901  0.52313592\n",
      " -0.52163182 -0.59501447  0.35826543  0.52381085]\n",
      "Second random Array: [-0.77137475 -1.94688617  1.15862137  0.43764039  1.33625967  0.20017834\n",
      " -0.65386809 -0.87418548  0.70757048  0.69182945]\n"
     ]
    }
   ],
   "source": [
    "#you can also generate random array by using np.random.randn() \n",
    "\n",
    "random_array_a=np.random.randn((10))\n",
    "print(\"First random Array: {}\".format(random_array_a))\n",
    "\n",
    "random_array_b=np.random.randn((10))\n",
    "print(\"Second random Array: {}\".format(random_array_b))"
   ]
  },
  {
   "cell_type": "code",
   "execution_count": 16,
   "metadata": {},
   "outputs": [
    {
     "name": "stdout",
     "output_type": "stream",
     "text": [
      "Addition of two Random Arrays: [-0.56552647 -0.12487827  2.16669539  1.69300282  1.69257869  0.72331426\n",
      " -1.17549991 -1.46919995  1.06583592  1.2156403 ]\n",
      "Substraction of two Random Arrays: [ 0.97722303  3.76889407 -0.15054735  0.81772204 -0.97994066  0.32295758\n",
      "  0.13223627  0.27917101 -0.34930505 -0.1680186 ]\n",
      "Multiplication of two Random Arrays: [-0.15878617 -3.54724199  1.1679761   0.5493973   0.47613473  0.10472048\n",
      "  0.3410784   0.52015301  0.25349805  0.36238777]\n",
      "Division of two Random Arrays: [-0.26685898 -0.93585744  0.87006337  2.86847938  0.26665402  2.61334932\n",
      "  0.79776308  0.68065014  0.5063318   0.7571387 ]\n"
     ]
    }
   ],
   "source": [
    "print(\"Addition of two Random Arrays: {}\".format(random_array_a + random_array_b))\n",
    "print(\"Substraction of two Random Arrays: {}\".format(random_array_a - random_array_b))\n",
    "print(\"Multiplication of two Random Arrays: {}\".format(random_array_a * random_array_b))\n",
    "print(\"Division of two Random Arrays: {}\".format(random_array_a / random_array_b))"
   ]
  },
  {
   "cell_type": "code",
   "execution_count": 17,
   "metadata": {},
   "outputs": [
    {
     "name": "stdout",
     "output_type": "stream",
     "text": [
      "Random array with true/false statement: [ True  True  True  True  True  True False False  True  True]\n",
      "[0.20584828 1.8220079  1.00807402 1.25536243 0.35631901 0.52313592\n",
      " 0.35826543 0.52381085]\n"
     ]
    }
   ],
   "source": [
    "print(\"Random array with true/false statement: {}\".format(random_array_a>0))\n",
    "print(random_array_a[random_array_a>0]) #gives those element which is true"
   ]
  },
  {
   "cell_type": "markdown",
   "metadata": {},
   "source": [
    "# Indexing & Slicing"
   ]
  },
  {
   "cell_type": "code",
   "execution_count": 21,
   "metadata": {},
   "outputs": [
    {
     "name": "stdout",
     "output_type": "stream",
     "text": [
      "4\n",
      "[6 7 8]\n",
      "[4 7]\n",
      "[5 8]\n"
     ]
    }
   ],
   "source": [
    "#some example about indexing relate with numpy\n",
    "\n",
    "import numpy as np\n",
    "x = np.array([2,3,4,6,7,8])\n",
    "print(x[2])\n",
    "\n",
    "#boolean indexing\n",
    "print(x[x>=6])   #index where the condition is also working\n",
    "\n",
    "#Fancy Indexing\n",
    "print(x[[2,4]]) #indexing passing by list and select that number against index\n",
    "\n",
    "#Another Example,\n",
    "y = np.array([3,5,6,8,9,11,13])  #gives those values which on your given position\n",
    "print(y[[1,3]])"
   ]
  },
  {
   "cell_type": "code",
   "execution_count": 23,
   "metadata": {},
   "outputs": [
    {
     "name": "stdout",
     "output_type": "stream",
     "text": [
      "[[ 0.10658069  0.83850311  0.19514427 -1.12500041 -0.16947016]\n",
      " [ 1.35826752  0.56330292 -0.03638047  0.55584402  1.93299963]\n",
      " [-0.11151012  0.25054554 -1.50938278 -1.53281007  0.67189399]\n",
      " [ 0.18579619  1.41320552  1.95396361 -1.49636837 -0.57181486]\n",
      " [-0.38755107 -0.56506238  1.16152038 -0.61228023  0.00463909]]\n",
      "\n",
      "\n",
      "Whole First Row: [ 0.10658069  0.83850311  0.19514427 -1.12500041 -0.16947016]\n",
      "\n",
      "\n",
      "2nd row 4th Column: 0.5558440187238955\n",
      "\n",
      "\n",
      "Even rows with all columns of that rows:\n",
      " [[ 0.10658069  0.83850311  0.19514427 -1.12500041 -0.16947016]\n",
      " [-0.11151012  0.25054554 -1.50938278 -1.53281007  0.67189399]\n",
      " [-0.38755107 -0.56506238  1.16152038 -0.61228023  0.00463909]]\n"
     ]
    }
   ],
   "source": [
    "#some example about Silicing relate with numpy\n",
    "\n",
    "x=np.random.randn(5, 5)\n",
    "print(x)\n",
    "\n",
    "print(\"\\n\")\n",
    "print(\"Whole First Row: {}\".format(x[0]))\n",
    "print(\"\\n\")\n",
    "print(\"2nd row 4th Column: {}\".format(x[1][3])) #if you select single value to be as a output than it must be a large value\n",
    "\n",
    "print(\"\\n\")\n",
    "\n",
    "print(\"Even rows with all columns of that rows:\\n {}\".format(x[0:5:2,::]))  #for Even number list\n"
   ]
  },
  {
   "cell_type": "code",
   "execution_count": 26,
   "metadata": {},
   "outputs": [
    {
     "name": "stdout",
     "output_type": "stream",
     "text": [
      "all rows and required columns:\n",
      " [[ 0.38255328 -0.10202216 -1.33865867]\n",
      " [-0.31935107 -0.16245125  0.99222302]\n",
      " [ 2.13699246  0.01773349  1.17725478]\n",
      " [-1.8857378   0.44652668  0.47251758]\n",
      " [-0.40207246  0.23311799  0.78798257]]\n"
     ]
    }
   ],
   "source": [
    "#if you want all rows and required columns than,\n",
    "print(\"all rows and required columns:\\n {}\".format(x[::,0:5:2]))\n",
    "#[{starting:ending}:gap for rows, {starting:ending}:gap for columns]"
   ]
  },
  {
   "cell_type": "code",
   "execution_count": 24,
   "metadata": {},
   "outputs": [
    {
     "name": "stdout",
     "output_type": "stream",
     "text": [
      "5th Dimentional Array with all Ones:\n",
      " [[1. 1. 1. 1. 1.]\n",
      " [1. 1. 1. 1. 1.]\n",
      " [1. 1. 1. 1. 1.]\n",
      " [1. 1. 1. 1. 1.]\n",
      " [1. 1. 1. 1. 1.]]\n",
      "\n",
      "\n",
      "5th Dimentional Array with Zeroes at the centre:\n",
      " [[1. 1. 1. 1. 1.]\n",
      " [1. 0. 0. 0. 1.]\n",
      " [1. 0. 0. 0. 1.]\n",
      " [1. 0. 0. 0. 1.]\n",
      " [1. 1. 1. 1. 1.]]\n"
     ]
    }
   ],
   "source": [
    "w=np.ones([5, 5])\n",
    "print(\"5th Dimentional Array with all Ones:\\n {}\".format(w))\n",
    "\n",
    "w[1:-1,1:-1]=0  #gives range that left starting row & column and ending row & column.\n",
    "print(\"\\n\")\n",
    "print(\"5th Dimentional Array with Zeroes at the centre:\\n {}\".format(w))"
   ]
  },
  {
   "cell_type": "markdown",
   "metadata": {},
   "source": [
    "# Fast element-wise array functions"
   ]
  },
  {
   "cell_type": "code",
   "execution_count": 43,
   "metadata": {},
   "outputs": [
    {
     "name": "stdout",
     "output_type": "stream",
     "text": [
      "Square root of s Array:[1. 2. 3. 4. 5. 6.]\n",
      "Square Power of s Array:[   1   16   81  256  625 1296]\n",
      "Cubic Power of s Array:[    1    64   729  4096 15625 46656]\n",
      "\n",
      "\n",
      "Mazimum Values from the two arrays: [ 2  5  9 16 25 36]\n"
     ]
    }
   ],
   "source": [
    "s=np.array([1,4,9,16,25,36])\n",
    "print(\"Square root of s Array:{}\".format(np.sqrt(s)))\n",
    "print(\"Square Power of s Array:{}\".format(np.power(s, 2)))\n",
    "print(\"Cubic Power of s Array:{}\".format(np.power(s, 3)))\n",
    "print(\"\\n\")\n",
    "\n",
    "e=[2,5,7,5,8,3]\n",
    "print(\"Mazimum Values from the two arrays: {}\".format(np.maximum(s, e)))\n",
    "#np.maximum traverse every value from the both arrray and gives the largest value of any particular position in the both array\n",
    "#and take those two arrays to form one array\n"
   ]
  },
  {
   "cell_type": "markdown",
   "metadata": {},
   "source": [
    "# Np.where"
   ]
  },
  {
   "cell_type": "code",
   "execution_count": 25,
   "metadata": {},
   "outputs": [
    {
     "name": "stdout",
     "output_type": "stream",
     "text": [
      "Salaries of all Employee(lum sum):\n",
      "[ 35000  35000 100000  50000]\n",
      "\n",
      "\n",
      "Salaries Private(means don't be overwrite):\n",
      "['Salary hide' 'Salary hide' '100000' '50000']\n"
     ]
    }
   ],
   "source": [
    "# Ternary operator takes three operand as an input (if condition is satisfy than on first operand on which you put condition is\n",
    "# is running  and if other condition is satisfy than the second operand is running)\n",
    "\n",
    "# np.where(condition, option A, option B)\n",
    "#condition: the condition\n",
    "#Option A: what is to do with entries for which the condition is true\n",
    "#Option B: what to do with entries for which the condition is false\n",
    "# np.where is apply on whole array\n",
    "# where funtion is uses where on, when we're working as a data scientist and we get same empty or null values in the array than\n",
    "# fill those spaces using np.where()\n",
    "# you can also filtered out the values from an array using np.where\n",
    "\n",
    "import numpy as np\n",
    "\n",
    "salary=np.array([0, -1, 100000, 50000])# these are the salary set of any particular faculty\n",
    "#0 and -1 represent that the 1st and 2nd employee don't want to show their salaries\n",
    "print(\"Salaries of all Employee(lum sum):\")\n",
    "print(np.where(salary<=0, 35000, salary))\n",
    "print(\"\\n\")\n",
    "print(\"Salaries Private(means don't be overwrite):\")\n",
    "print(np.where(salary<=0, \"Salary hide\", salary))"
   ]
  },
  {
   "cell_type": "markdown",
   "metadata": {},
   "source": [
    "# Mathematical & Statistical Methods"
   ]
  },
  {
   "cell_type": "code",
   "execution_count": 26,
   "metadata": {},
   "outputs": [
    {
     "name": "stdout",
     "output_type": "stream",
     "text": [
      "Some Mathematical & Statiaticals Methods while using Numpy:\n",
      "\n",
      "\n",
      "1) The mean of the given Array: '43.833333333333336'\n",
      "2) The Cumulative Summation of an Array: [ 12  44  98 163 208 263]\n",
      "3) The Cumulative Product of an Array: [        12        384      20736    1347840   60652800 -959063296]\n",
      "\n",
      "\n",
      "[False False  True  True  True  True]\n",
      "The Total No of true in an Array: 4\n",
      "Check, if any value is true(boolean Answer): True\n",
      "Check, if all value is true(boolean Answer): False\n",
      "\n",
      "\n",
      "Array Before Sorting: [5 2 7 3 1 9 8]\n",
      "Array After Sorting: [1 2 3 5 7 8 9]\n",
      "Given array is: [2 2 4 5 6 7 7 8 9]\n",
      "Array after making unique set: [2 4 5 6 7 8 9]\n"
     ]
    }
   ],
   "source": [
    "import numpy as np\n",
    "\n",
    "# mean(): returns the mean value computed over the array\n",
    "# cumsum(): returns the cumulative sum of array elements\n",
    "# cumprod(): returns the cumulative product of array elements\n",
    "\n",
    "#some methods which work on boolean arrays\n",
    "# sum(): counting true values in a boolean array\n",
    "# any(): tests wether one or more values in an array is true\n",
    "# all(): checks if every value is true return true, otherwise return false\n",
    "\n",
    "#in numpy, we also have some sorting, unique methods\n",
    "# np.sort()\n",
    "# np.unique()\n",
    "\n",
    "print(\"Some Mathematical & Statiaticals Methods while using Numpy:\")\n",
    "print(\"\\n\")\n",
    "Array=np.array([12,32,54,65,45,55])\n",
    "print(\"1) The mean of the given Array: '{}'\".format(Array.mean()))\n",
    "print(\"2) The Cumulative Summation of an Array: {}\".format(Array.cumsum()))\n",
    "print(\"3) The Cumulative Product of an Array: {}\".format(Array.cumprod()))\n",
    "print(\"\\n\")\n",
    "Array_comparisn = Array>40   #in this line, all values of an Array compare by 40 and return answer in boolean(true/false)\n",
    "print(Array_comparisn)\n",
    "print(\"The Total No of true in an Array: {}\".format(Array_comparisn.sum()))  #gives sum of how many is true\n",
    "print(\"Check, if any value is true(boolean Answer): {}\".format(Array_comparisn.any()))\n",
    "print(\"Check, if all value is true(boolean Answer): {}\".format(Array_comparisn.all()))\n",
    "print(\"\\n\")\n",
    "another_array=np.array([5,2,7,3,1,9,8])\n",
    "print(\"Array Before Sorting: {}\".format(another_array))\n",
    "another_array.sort()\n",
    "print(\"Array After Sorting: {}\".format(another_array))\n",
    "\n",
    "#unique is not direct method like sort and it is call by,\n",
    "second_array=np.array([2,2,4,5,6,7,7,8,9])\n",
    "print(\"Given array is: {}\".format(second_array))\n",
    "print(\"Array after making unique set: {}\".format(np.unique(second_array)))"
   ]
  },
  {
   "cell_type": "markdown",
   "metadata": {},
   "source": [
    "# File Input Output"
   ]
  },
  {
   "cell_type": "code",
   "execution_count": 7,
   "metadata": {},
   "outputs": [
    {
     "name": "stdout",
     "output_type": "stream",
     "text": [
      "[ 1  3  5  7  9 11]\n"
     ]
    }
   ],
   "source": [
    "import numpy as np\n",
    "\n",
    "# you can completely save the array by using numpy lib\n",
    "# np.save(filename.npy, array which you wanna save) if you don't give extention than numpy will automatically provides.\n",
    "# np.load(filename.npy)\n",
    "# np.savez(filename.npz, array1, array2)\n",
    "    # when loading an .npz file, you get back a dictionary like object\n",
    "    \n",
    "x=[1,3,5,7,9,11]\n",
    "y=[2,4,6,8,10,12]\n",
    "\n",
    "np.save('testx', x)\n",
    "loadx = np.load('testx.npy')\n",
    "print(loadx)"
   ]
  },
  {
   "cell_type": "code",
   "execution_count": 16,
   "metadata": {},
   "outputs": [
    {
     "name": "stdout",
     "output_type": "stream",
     "text": [
      "<numpy.lib.npyio.NpzFile object at 0x00000279E815CD68>\n"
     ]
    }
   ],
   "source": [
    "np.savez('testxy', x=x, y=y)\n",
    "loadxy = np.load('testxy.npz')   #save array as a dictionary\n",
    "print(loadxy)"
   ]
  },
  {
   "cell_type": "code",
   "execution_count": 19,
   "metadata": {},
   "outputs": [
    {
     "name": "stdout",
     "output_type": "stream",
     "text": [
      "Values of x from the two arrays: [ 1  3  5  7  9 11]\n",
      "Values of y from the two arrays: [ 2  4  6  8 10 12]\n"
     ]
    }
   ],
   "source": [
    "#you can retrieve it by,\n",
    "print(\"Values of x from the two arrays: {}\".format(loadxy['x']))\n",
    "print(\"Values of y from the two arrays: {}\".format(loadxy['y']))"
   ]
  },
  {
   "cell_type": "markdown",
   "metadata": {},
   "source": [
    "# Linear Algebra Functions"
   ]
  },
  {
   "cell_type": "code",
   "execution_count": 34,
   "metadata": {},
   "outputs": [
    {
     "name": "stdout",
     "output_type": "stream",
     "text": [
      "Matrix W and Matrix A:\n",
      "[[ 0.30115687 -0.05332603 -0.82505819]\n",
      " [-0.16360176  1.29021279 -0.99880239]\n",
      " [-0.13115589 -0.37259053  1.64717747]] \n",
      "\n",
      " [[-0.78507357 -1.72292522  0.07313599]\n",
      " [ 1.08326477 -0.75488857  0.97498684]\n",
      " [-2.30095562  0.92191337 -1.44519136]]\n",
      "\n",
      "\n",
      "1) Dot product of w and a:\n",
      " [[ 1.60422578 -1.23924774  1.1624002 ]\n",
      " [ 3.82428145 -1.61290256  2.6894359 ]\n",
      " [-4.09072942  2.02579105 -2.75334972]]\n",
      "2) Transpose of w:\n",
      " [[ 0.30115687 -0.16360176 -0.13115589]\n",
      " [-0.05332603  1.29021279 -0.37259053]\n",
      " [-0.82505819 -0.99880239  1.64717747]]\n",
      "3) Trace of w:\n",
      " 3.238547134665415\n",
      "4a) Diagonal of Matrix w:\n",
      " [0.30115687 1.29021279 1.64717747]\n",
      "4b) Diagonal of Matrix a:\n",
      " [-0.78507357 -0.75488857 -1.44519136]\n"
     ]
    }
   ],
   "source": [
    "#through numpy, you can vectorized support for your code and take homogenous data for use\n",
    "#we can also get some numerical computing facilities through numpy\n",
    "#you can find out the dot product, diagonal matrix, inverse of the matrix, igone values from the matrix\n",
    "\n",
    "w = np.random.randn(3, 3)\n",
    "a = np.random.randn(3, 3)\n",
    "print(\"Matrix W and Matrix A:\")\n",
    "print(w,\"\\n\\n\",a)\n",
    "print(\"\\n\")\n",
    "print(\"1) Dot product of w and a:\\n {}\".format(w.dot(a)))\n",
    "print(\"2) Transpose of w:\\n {}\".format(w.transpose()))\n",
    "print(\"3) Trace of w:\\n {}\".format(w.trace()))\n",
    "print(\"4a) Diagonal of Matrix w:\\n {}\".format(np.diag(w)))\n",
    "print(\"4b) Diagonal of Matrix a:\\n {}\".format(np.diag(a)))"
   ]
  },
  {
   "cell_type": "code",
   "execution_count": 35,
   "metadata": {},
   "outputs": [
    {
     "data": {
      "text/plain": [
       "array([[0.30115687, 0.        , 0.        ],\n",
       "       [0.        , 1.29021279, 0.        ],\n",
       "       [0.        , 0.        , 1.64717747]])"
      ]
     },
     "execution_count": 35,
     "metadata": {},
     "output_type": "execute_result"
    }
   ],
   "source": [
    "#Generating diagonal Matrix\n",
    "np.diag(np.diag(w))"
   ]
  },
  {
   "cell_type": "code",
   "execution_count": 37,
   "metadata": {},
   "outputs": [
    {
     "name": "stdout",
     "output_type": "stream",
     "text": [
      "Diagonal of w:\n",
      " [-0.05332603 -0.99880239]\n",
      "\n",
      "\n",
      "Diagonal of w:\n",
      " [-0.16360176 -0.37259053]\n"
     ]
    }
   ],
   "source": [
    "#upper and lower diagonal matrix\n",
    "\n",
    "print(\"Diagonal of w:\\n {}\".format(np.diag(w, k=1)))  #upper diagonal\n",
    "print(\"\\n\")\n",
    "print(\"Diagonal of w:\\n {}\".format(np.diag(w, k=-1))) #lower diagonal"
   ]
  },
  {
   "cell_type": "code",
   "execution_count": 41,
   "metadata": {},
   "outputs": [
    {
     "name": "stdout",
     "output_type": "stream",
     "text": [
      "Matrix:\n",
      "[[1 2]\n",
      " [3 4]]\n",
      "Inverse of the Matrix:\n",
      "[[-2.   1. ]\n",
      " [ 1.5 -0.5]]\n"
     ]
    }
   ],
   "source": [
    "#inverse of the matrix\n",
    "\n",
    "x = np.array([[1,2],[3,4]]) \n",
    "y = np.linalg.inv(x) \n",
    "print(\"Matrix:\\n{}\".format(x))\n",
    "print(\"Inverse of the Matrix:\\n{}\".format(y))"
   ]
  },
  {
   "cell_type": "markdown",
   "metadata": {},
   "source": [
    "# Pseudo Random Number"
   ]
  },
  {
   "cell_type": "code",
   "execution_count": 47,
   "metadata": {},
   "outputs": [
    {
     "name": "stdout",
     "output_type": "stream",
     "text": [
      "Random Numbers Using Normal Generator:\n",
      "[[ 0.44122749 -0.33087015  2.43077119]\n",
      " [-0.25209213  0.10960984  1.58248112]\n",
      " [-0.9092324  -0.59163666  0.18760323]]\n",
      "Random Numbers Using Uniform Generator:\n",
      "[[0.44130922 0.15830987 0.87993703]\n",
      " [0.27408646 0.41423502 0.29607993]\n",
      " [0.62878791 0.57983781 0.5999292 ]]\n",
      "Random Numbers Using Uniform Generator:\n",
      "[2.55209602 1.38837205 1.57431672 6.62482501 5.53190672 3.3418323\n",
      " 3.06723474 5.82889589 1.95408949 3.31736372]\n"
     ]
    }
   ],
   "source": [
    "import numpy as np\n",
    "\n",
    "#to remove biosness from our data, we use to make the data randomize\n",
    "#it is impossible for computer to generate pure random numbers, because computer generate random numbers by some formula's\n",
    "#computer generate random numbers by statistical distribution\n",
    "#Pseudo Random Number generation:\n",
    "# 1) Normal()\n",
    "# 2) seed()\n",
    "# 3) gamma()   generated one-D array\n",
    "# 4) uniform()\n",
    "    # but we must initialize the random number generator first, like we gives seed value to the generator\n",
    "\n",
    "np.random.seed(5)  #use seed(), by which the numbers generated randomly remains same\n",
    "print(\"Random Numbers Using Normal Generator:\\n{}\".format(np.random.normal(size=(3, 3))))\n",
    "print(\"Random Numbers Using Uniform Generator:\\n{}\".format(np.random.uniform(size=(3,3))))\n",
    "\n",
    "shape, scale = 2., 2.  # mean=4, std=2*sqrt(2)\n",
    "print(\"Random Numbers Using Uniform Generator:\\n{}\".format(np.random.gamma(shape, scale, 10)))"
   ]
  },
  {
   "cell_type": "markdown",
   "metadata": {},
   "source": [
    "# NumPy Advanced Array Manipulations"
   ]
  },
  {
   "cell_type": "markdown",
   "metadata": {},
   "source": [
    "# 1) Reshape"
   ]
  },
  {
   "cell_type": "code",
   "execution_count": 27,
   "metadata": {},
   "outputs": [
    {
     "name": "stdout",
     "output_type": "stream",
     "text": [
      "Random Array Before Reshaping:\n",
      "\n",
      "[[ 0.91680513  0.74175323  0.33010691 -0.13691192 -0.29457377]\n",
      " [ 0.64109731 -0.24414084 -0.49152537 -0.31410362 -0.01064061]\n",
      " [ 0.70286902  1.94575128 -0.2921938  -0.55063575  0.63933693]\n",
      " [-0.34335051 -1.35358475  0.59081999 -0.96546315  1.02736526]]\n",
      "Random Array After Reshaping:\n",
      "\n",
      "[[[ 0.91680513  0.74175323  0.33010691 -0.13691192 -0.29457377]\n",
      "  [ 0.64109731 -0.24414084 -0.49152537 -0.31410362 -0.01064061]]\n",
      "\n",
      " [[ 0.70286902  1.94575128 -0.2921938  -0.55063575  0.63933693]\n",
      "  [-0.34335051 -1.35358475  0.59081999 -0.96546315  1.02736526]]]\n",
      "Random Array After Reshaping in Fortran Order:\n",
      "\n",
      "[[[ 0.91680513  0.74175323  0.33010691 -0.13691192 -0.29457377]\n",
      "  [ 0.70286902  1.94575128 -0.2921938  -0.55063575  0.63933693]]\n",
      "\n",
      " [[ 0.64109731 -0.24414084 -0.49152537 -0.31410362 -0.01064061]\n",
      "  [-0.34335051 -1.35358475  0.59081999 -0.96546315  1.02736526]]]\n",
      "Random Array After Reshaping with non-Initialize Value:\n",
      "\n",
      "[[[ 0.91680513  0.74175323  0.33010691 -0.13691192 -0.29457377]\n",
      "  [ 0.64109731 -0.24414084 -0.49152537 -0.31410362 -0.01064061]]\n",
      "\n",
      " [[ 0.70286902  1.94575128 -0.2921938  -0.55063575  0.63933693]\n",
      "  [-0.34335051 -1.35358475  0.59081999 -0.96546315  1.02736526]]]\n",
      "Convert 3D into 1D by Ravel Method:\n",
      "\n",
      "[ 0.91680513  0.74175323  0.33010691 -0.13691192 -0.29457377  0.64109731\n",
      " -0.24414084 -0.49152537 -0.31410362 -0.01064061  0.70286902  1.94575128\n",
      " -0.2921938  -0.55063575  0.63933693 -0.34335051 -1.35358475  0.59081999\n",
      " -0.96546315  1.02736526]\n",
      "Convert 3D into 1D by Flatten Method:\n",
      "\n",
      "[ 0.91680513  0.74175323  0.33010691 -0.13691192 -0.29457377  0.64109731\n",
      " -0.24414084 -0.49152537 -0.31410362 -0.01064061  0.70286902  1.94575128\n",
      " -0.2921938  -0.55063575  0.63933693 -0.34335051 -1.35358475  0.59081999\n",
      " -0.96546315  1.02736526]\n"
     ]
    }
   ],
   "source": [
    "#you can reshape any number elements but the counting of elements remian same\n",
    "#row major order and column major order are the main difference that how the data is store through the array\n",
    "#C order (row order start to add values from rows) and fortran order (column order start to add values from column)\n",
    "# you can specify that what kind of order you wanna reshape your array\n",
    "# you can skip any dimention on your array while reshaping\n",
    "# by using ravel()/flatten(), you can make any dimentional array to the one dimentional array\n",
    "\n",
    "x=np.random.randn(4,5)   #(row, column)\n",
    "print(\"Random Array Before Reshaping:\\n\\n{}\".format(x))\n",
    "print(\"Random Array After Reshaping:\\n\\n{}\".format(x.reshape((2, 2, 5))))  #convert 2D Array into 3D Array\n",
    "#compilar save this array in row major order by default,\n",
    "#we can specify that we want column order by,\n",
    "print(\"Random Array After Reshaping in Fortran Order:\\n\\n{}\".format(x.reshape((2, 2, 5), order='F')))\n",
    "#convert 2D Array into 3D Array\n",
    "\n",
    "#you can skip any dimention of an array by using (-1) no-initialize value, and it is the responsibility of the numpy to deal \n",
    "#with this argument(to infer that what value this dimention must have)\n",
    "print(\"Random Array After Reshaping with non-Initialize Value:\\n\\n{}\".format(x.reshape((2, 2, -1))))\n",
    "# but x is still two dimention because all the operations we done on x is obsolete, if we want operations to be done than we\n",
    "# have to save these operations on another array type\n",
    "# you can convert any dimentional array to one dimentional array by,\n",
    "print(\"Convert 3D into 1D by Ravel Method:\\n\\n{}\".format(x.ravel()))\n",
    "print(\"Convert 3D into 1D by Flatten Method:\\n\\n{}\".format(x.flatten()))\n",
    "#these all are some basic contruct by which we can reshape an array"
   ]
  },
  {
   "cell_type": "markdown",
   "metadata": {},
   "source": [
    "# 2) Concatenate"
   ]
  },
  {
   "cell_type": "code",
   "execution_count": 30,
   "metadata": {},
   "outputs": [
    {
     "name": "stdout",
     "output_type": "stream",
     "text": [
      "First converted Array:\n",
      "[[ 1  3  5]\n",
      " [ 7  9 11]]\n",
      "Second converted Array:\n",
      "[[ 2  4  6]\n",
      " [ 8 10 12]]\n"
     ]
    }
   ],
   "source": [
    "#Concatenate: Takes a sequence(tuples, list, etc) of arrays and join them together in order along the input axis\n",
    "#that argument(axis) tells you that if you want to concatenate row wise or column wise\n",
    "#axis=0 is for concatenation of two arrays by row and axis=1 is for concatenation of two arrays by column\n",
    "#Some Convenience functions of Concatenate\n",
    "#vstack: stack array row wise(along axis=0) hstack: stack array row wise(along axis=1)\n",
    "\n",
    "x=[[1,3,5], [7,9,11]]\n",
    "array1=np.array(x)  #convert list into numpy's array\n",
    "print(\"First converted Array:\\n{}\".format(array1))\n",
    "\n",
    "y=[[2,4,6], [8,10,12]]\n",
    "array2=np.array(y)  #convert list into numpy's array\n",
    "print(\"Second converted Array:\\n{}\".format(array2))"
   ]
  },
  {
   "cell_type": "code",
   "execution_count": 31,
   "metadata": {},
   "outputs": [
    {
     "data": {
      "text/plain": [
       "array([[ 1,  3,  5],\n",
       "       [ 7,  9, 11],\n",
       "       [ 2,  4,  6],\n",
       "       [ 8, 10, 12]])"
      ]
     },
     "execution_count": 31,
     "metadata": {},
     "output_type": "execute_result"
    }
   ],
   "source": [
    "#for row wise operation,\n",
    "np.concatenate((array1,array2),axis=0)"
   ]
  },
  {
   "cell_type": "code",
   "execution_count": 32,
   "metadata": {},
   "outputs": [
    {
     "data": {
      "text/plain": [
       "array([[ 1,  3,  5,  2,  4,  6],\n",
       "       [ 7,  9, 11,  8, 10, 12]])"
      ]
     },
     "execution_count": 32,
     "metadata": {},
     "output_type": "execute_result"
    }
   ],
   "source": [
    "#for column wise operation,\n",
    "np.concatenate((array1,array2),axis=1)"
   ]
  },
  {
   "cell_type": "code",
   "execution_count": 34,
   "metadata": {},
   "outputs": [
    {
     "name": "stdout",
     "output_type": "stream",
     "text": [
      "Concatenate Arrays using vStack Method through x-axis:\n",
      "[[ 1  3  5]\n",
      " [ 7  9 11]\n",
      " [ 2  4  6]\n",
      " [ 8 10 12]]\n",
      "Concatenate Arrays using hStack Method through y-axis:\n",
      "[[ 1  3  5  2  4  6]\n",
      " [ 7  9 11  8 10 12]]\n"
     ]
    }
   ],
   "source": [
    "#you can also concatenate array using,\n",
    "print(\"Concatenate Arrays using vStack Method through x-axis:\\n{}\".format(np.vstack((array1, array2))))\n",
    "#concatenate through x-axis\n",
    "print(\"Concatenate Arrays using hStack Method through y-axis:\\n{}\".format(np.hstack((array1, array2))))\n",
    "#concatenate through y-axis"
   ]
  },
  {
   "cell_type": "markdown",
   "metadata": {},
   "source": [
    "# 3) Split"
   ]
  },
  {
   "cell_type": "code",
   "execution_count": 39,
   "metadata": {},
   "outputs": [
    {
     "data": {
      "text/plain": [
       "[array([1, 2, 3, 4]), array([5, 6, 7, 8]), array([ 9, 10, 11, 12])]"
      ]
     },
     "execution_count": 39,
     "metadata": {},
     "output_type": "execute_result"
    }
   ],
   "source": [
    "#split slices apart an array into multiple arrays along an axis\n",
    "#np.split(array_name, [position one, position two]) specify position where array split\n",
    "w=[1,2,3,4,5,6,7,8,9,10,11,12]\n",
    "numpy_array=np.array(w)\n",
    "np.split(numpy_array, [4,8])"
   ]
  },
  {
   "cell_type": "code",
   "execution_count": 40,
   "metadata": {},
   "outputs": [
    {
     "data": {
      "text/plain": [
       "[array([[ 1,  2,  3],\n",
       "        [10, 11, 12]]), array([[ 4,  5,  6],\n",
       "        [13, 14, 15]]), array([[ 7,  8,  9],\n",
       "        [16, 17, 18]])]"
      ]
     },
     "execution_count": 40,
     "metadata": {},
     "output_type": "execute_result"
    }
   ],
   "source": [
    "#if you're going with two dimentional array than, you split your array like,\n",
    "#np.split(array_name, [position one, position two], axis=0/1)\n",
    "a=[[1,2,3,4,5,6,7,8,9], [10,11,12,13,14,15,16,17,18]]\n",
    "sec_numpy_array=np.array(a)\n",
    "np.split(sec_numpy_array, [3,6], axis=1)  #split array column wise"
   ]
  },
  {
   "cell_type": "code",
   "execution_count": 46,
   "metadata": {},
   "outputs": [
    {
     "data": {
      "text/plain": [
       "[array([[1, 2, 3, 4, 5, 6, 7, 8, 9]]),\n",
       " array([[10, 11, 12, 13, 14, 15, 16, 17, 18]])]"
      ]
     },
     "execution_count": 46,
     "metadata": {},
     "output_type": "execute_result"
    }
   ],
   "source": [
    "np.split(sec_numpy_array, [1], axis=0)  #split array row wise"
   ]
  },
  {
   "cell_type": "markdown",
   "metadata": {},
   "source": [
    "# 4) Tile & Repeat"
   ]
  },
  {
   "cell_type": "code",
   "execution_count": 50,
   "metadata": {},
   "outputs": [
    {
     "name": "stdout",
     "output_type": "stream",
     "text": [
      "[1 1 1 2 2 2 3 3 3 4 4 4]\n",
      "[1 2 3 4 1 2 3 4 1 2 3 4]\n"
     ]
    }
   ],
   "source": [
    "#these two function are the advance functions of an array\n",
    "#repeat replicates each element in an array some number of times, producing a larger array\n",
    "#if you pass an array of integers, each element can be repeated a different number of time\n",
    "#repeats every element of an input, put the repeated numbers into a new array\n",
    "#tile is the shortcut for stacking copies of an array along an axis\n",
    "\n",
    "l=[1,2,3,4]\n",
    "np_array_l=np.array(l)\n",
    "print(np.repeat(np_array_l,3))  #all element repeats 3 times\n",
    "print(np.tile(np_array_l,3))  #repeats the series of element 3 times"
   ]
  },
  {
   "cell_type": "code",
   "execution_count": null,
   "metadata": {},
   "outputs": [],
   "source": []
  }
 ],
 "metadata": {
  "kernelspec": {
   "display_name": "Python 3",
   "language": "python",
   "name": "python3"
  },
  "language_info": {
   "codemirror_mode": {
    "name": "ipython",
    "version": 3
   },
   "file_extension": ".py",
   "mimetype": "text/x-python",
   "name": "python",
   "nbconvert_exporter": "python",
   "pygments_lexer": "ipython3",
   "version": "3.7.3"
  }
 },
 "nbformat": 4,
 "nbformat_minor": 2
}
